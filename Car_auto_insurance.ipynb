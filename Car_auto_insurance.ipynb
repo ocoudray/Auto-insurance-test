{
 "cells": [
  {
   "cell_type": "markdown",
   "id": "ffc923d4-3bba-4021-a35f-cf17d531c0f4",
   "metadata": {},
   "source": [
    "# Car auto insurance"
   ]
  },
  {
   "cell_type": "code",
   "execution_count": 1,
   "id": "648cd69d-b0cd-4caa-8afd-e2a50c71da78",
   "metadata": {},
   "outputs": [],
   "source": [
    "# Python libraries\n",
    "import numpy as np\n",
    "import pandas as pd\n",
    "import matplotlib.pyplot as plt\n",
    "from sklearn.preprocessing import OneHotEncoder\n",
    "from sklearn.impute import KNNImputer\n",
    "from sklearn import preprocessing\n",
    "from sklearn.model_selection import train_test_split\n",
    "from sklearn.linear_model import LogisticRegression, LogisticRegressionCV\n",
    "from sklearn.discriminant_analysis import LinearDiscriminantAnalysis\n",
    "from sklearn.svm import SVC\n",
    "from sklearn.ensemble import RandomForestClassifier\n",
    "from sklearn.metrics import roc_auc_score, average_precision_score, precision_score, recall_score, accuracy_score, f1_score"
   ]
  },
  {
   "cell_type": "markdown",
   "id": "7678b9b1-3121-4d91-a57a-3381177c2c64",
   "metadata": {},
   "source": [
    "## 1) Reading and general analysis on the dataset"
   ]
  },
  {
   "cell_type": "code",
   "execution_count": 2,
   "id": "4fb467e3-1569-4c89-b4ea-497b833077f0",
   "metadata": {},
   "outputs": [],
   "source": [
    "# Training dataset\n",
    "train_data = pd.read_csv('data/auto-insurance-fall-2017/train_auto.csv', index_col=0)\n",
    "# Test dataset\n",
    "test_data = pd.read_csv('data/auto-insurance-fall-2017/test_auto.csv', index_col=0)"
   ]
  },
  {
   "cell_type": "code",
   "execution_count": 3,
   "id": "bbe3fb76-ab09-438f-841c-5be8a40944fe",
   "metadata": {},
   "outputs": [
    {
     "name": "stdout",
     "output_type": "stream",
     "text": [
      "Shape of the training dataset: (8161, 25)\n",
      "Shape of the test dataset: (2141, 25)\n"
     ]
    }
   ],
   "source": [
    "print('Shape of the training dataset: {}'.format(train_data.shape))\n",
    "print('Shape of the test dataset: {}'.format(test_data.shape))"
   ]
  },
  {
   "cell_type": "markdown",
   "id": "d6fa052a-154e-4591-97bb-4ff3d9fae8f2",
   "metadata": {},
   "source": [
    "+ TARGET_FLAG is the variable to predict $Y$\n",
    "+ TARGET_AMT isn't used\n",
    "+ the over columns represent the covariates $X$"
   ]
  },
  {
   "cell_type": "code",
   "execution_count": 4,
   "id": "35b818c4-0b25-4e6d-8b81-4575a4eefae4",
   "metadata": {},
   "outputs": [
    {
     "data": {
      "text/html": [
       "<div>\n",
       "<style scoped>\n",
       "    .dataframe tbody tr th:only-of-type {\n",
       "        vertical-align: middle;\n",
       "    }\n",
       "\n",
       "    .dataframe tbody tr th {\n",
       "        vertical-align: top;\n",
       "    }\n",
       "\n",
       "    .dataframe thead th {\n",
       "        text-align: right;\n",
       "    }\n",
       "</style>\n",
       "<table border=\"1\" class=\"dataframe\">\n",
       "  <thead>\n",
       "    <tr style=\"text-align: right;\">\n",
       "      <th></th>\n",
       "      <th>TARGET_FLAG</th>\n",
       "      <th>TARGET_AMT</th>\n",
       "      <th>KIDSDRIV</th>\n",
       "      <th>AGE</th>\n",
       "      <th>HOMEKIDS</th>\n",
       "      <th>YOJ</th>\n",
       "      <th>INCOME</th>\n",
       "      <th>PARENT1</th>\n",
       "      <th>HOME_VAL</th>\n",
       "      <th>MSTATUS</th>\n",
       "      <th>...</th>\n",
       "      <th>BLUEBOOK</th>\n",
       "      <th>TIF</th>\n",
       "      <th>CAR_TYPE</th>\n",
       "      <th>RED_CAR</th>\n",
       "      <th>OLDCLAIM</th>\n",
       "      <th>CLM_FREQ</th>\n",
       "      <th>REVOKED</th>\n",
       "      <th>MVR_PTS</th>\n",
       "      <th>CAR_AGE</th>\n",
       "      <th>URBANICITY</th>\n",
       "    </tr>\n",
       "    <tr>\n",
       "      <th>INDEX</th>\n",
       "      <th></th>\n",
       "      <th></th>\n",
       "      <th></th>\n",
       "      <th></th>\n",
       "      <th></th>\n",
       "      <th></th>\n",
       "      <th></th>\n",
       "      <th></th>\n",
       "      <th></th>\n",
       "      <th></th>\n",
       "      <th></th>\n",
       "      <th></th>\n",
       "      <th></th>\n",
       "      <th></th>\n",
       "      <th></th>\n",
       "      <th></th>\n",
       "      <th></th>\n",
       "      <th></th>\n",
       "      <th></th>\n",
       "      <th></th>\n",
       "      <th></th>\n",
       "    </tr>\n",
       "  </thead>\n",
       "  <tbody>\n",
       "    <tr>\n",
       "      <th>1</th>\n",
       "      <td>0</td>\n",
       "      <td>0.0</td>\n",
       "      <td>0</td>\n",
       "      <td>60.0</td>\n",
       "      <td>0</td>\n",
       "      <td>11.0</td>\n",
       "      <td>$67,349</td>\n",
       "      <td>No</td>\n",
       "      <td>$0</td>\n",
       "      <td>z_No</td>\n",
       "      <td>...</td>\n",
       "      <td>$14,230</td>\n",
       "      <td>11</td>\n",
       "      <td>Minivan</td>\n",
       "      <td>yes</td>\n",
       "      <td>$4,461</td>\n",
       "      <td>2</td>\n",
       "      <td>No</td>\n",
       "      <td>3</td>\n",
       "      <td>18.0</td>\n",
       "      <td>Highly Urban/ Urban</td>\n",
       "    </tr>\n",
       "    <tr>\n",
       "      <th>2</th>\n",
       "      <td>0</td>\n",
       "      <td>0.0</td>\n",
       "      <td>0</td>\n",
       "      <td>43.0</td>\n",
       "      <td>0</td>\n",
       "      <td>11.0</td>\n",
       "      <td>$91,449</td>\n",
       "      <td>No</td>\n",
       "      <td>$257,252</td>\n",
       "      <td>z_No</td>\n",
       "      <td>...</td>\n",
       "      <td>$14,940</td>\n",
       "      <td>1</td>\n",
       "      <td>Minivan</td>\n",
       "      <td>yes</td>\n",
       "      <td>$0</td>\n",
       "      <td>0</td>\n",
       "      <td>No</td>\n",
       "      <td>0</td>\n",
       "      <td>1.0</td>\n",
       "      <td>Highly Urban/ Urban</td>\n",
       "    </tr>\n",
       "    <tr>\n",
       "      <th>4</th>\n",
       "      <td>0</td>\n",
       "      <td>0.0</td>\n",
       "      <td>0</td>\n",
       "      <td>35.0</td>\n",
       "      <td>1</td>\n",
       "      <td>10.0</td>\n",
       "      <td>$16,039</td>\n",
       "      <td>No</td>\n",
       "      <td>$124,191</td>\n",
       "      <td>Yes</td>\n",
       "      <td>...</td>\n",
       "      <td>$4,010</td>\n",
       "      <td>4</td>\n",
       "      <td>z_SUV</td>\n",
       "      <td>no</td>\n",
       "      <td>$38,690</td>\n",
       "      <td>2</td>\n",
       "      <td>No</td>\n",
       "      <td>3</td>\n",
       "      <td>10.0</td>\n",
       "      <td>Highly Urban/ Urban</td>\n",
       "    </tr>\n",
       "    <tr>\n",
       "      <th>5</th>\n",
       "      <td>0</td>\n",
       "      <td>0.0</td>\n",
       "      <td>0</td>\n",
       "      <td>51.0</td>\n",
       "      <td>0</td>\n",
       "      <td>14.0</td>\n",
       "      <td>NaN</td>\n",
       "      <td>No</td>\n",
       "      <td>$306,251</td>\n",
       "      <td>Yes</td>\n",
       "      <td>...</td>\n",
       "      <td>$15,440</td>\n",
       "      <td>7</td>\n",
       "      <td>Minivan</td>\n",
       "      <td>yes</td>\n",
       "      <td>$0</td>\n",
       "      <td>0</td>\n",
       "      <td>No</td>\n",
       "      <td>0</td>\n",
       "      <td>6.0</td>\n",
       "      <td>Highly Urban/ Urban</td>\n",
       "    </tr>\n",
       "    <tr>\n",
       "      <th>6</th>\n",
       "      <td>0</td>\n",
       "      <td>0.0</td>\n",
       "      <td>0</td>\n",
       "      <td>50.0</td>\n",
       "      <td>0</td>\n",
       "      <td>NaN</td>\n",
       "      <td>$114,986</td>\n",
       "      <td>No</td>\n",
       "      <td>$243,925</td>\n",
       "      <td>Yes</td>\n",
       "      <td>...</td>\n",
       "      <td>$18,000</td>\n",
       "      <td>1</td>\n",
       "      <td>z_SUV</td>\n",
       "      <td>no</td>\n",
       "      <td>$19,217</td>\n",
       "      <td>2</td>\n",
       "      <td>Yes</td>\n",
       "      <td>3</td>\n",
       "      <td>17.0</td>\n",
       "      <td>Highly Urban/ Urban</td>\n",
       "    </tr>\n",
       "    <tr>\n",
       "      <th>7</th>\n",
       "      <td>1</td>\n",
       "      <td>2946.0</td>\n",
       "      <td>0</td>\n",
       "      <td>34.0</td>\n",
       "      <td>1</td>\n",
       "      <td>12.0</td>\n",
       "      <td>$125,301</td>\n",
       "      <td>Yes</td>\n",
       "      <td>$0</td>\n",
       "      <td>z_No</td>\n",
       "      <td>...</td>\n",
       "      <td>$17,430</td>\n",
       "      <td>1</td>\n",
       "      <td>Sports Car</td>\n",
       "      <td>no</td>\n",
       "      <td>$0</td>\n",
       "      <td>0</td>\n",
       "      <td>No</td>\n",
       "      <td>0</td>\n",
       "      <td>7.0</td>\n",
       "      <td>Highly Urban/ Urban</td>\n",
       "    </tr>\n",
       "    <tr>\n",
       "      <th>8</th>\n",
       "      <td>0</td>\n",
       "      <td>0.0</td>\n",
       "      <td>0</td>\n",
       "      <td>54.0</td>\n",
       "      <td>0</td>\n",
       "      <td>NaN</td>\n",
       "      <td>$18,755</td>\n",
       "      <td>No</td>\n",
       "      <td>NaN</td>\n",
       "      <td>Yes</td>\n",
       "      <td>...</td>\n",
       "      <td>$8,780</td>\n",
       "      <td>1</td>\n",
       "      <td>z_SUV</td>\n",
       "      <td>no</td>\n",
       "      <td>$0</td>\n",
       "      <td>0</td>\n",
       "      <td>No</td>\n",
       "      <td>0</td>\n",
       "      <td>1.0</td>\n",
       "      <td>Highly Urban/ Urban</td>\n",
       "    </tr>\n",
       "    <tr>\n",
       "      <th>11</th>\n",
       "      <td>1</td>\n",
       "      <td>4021.0</td>\n",
       "      <td>1</td>\n",
       "      <td>37.0</td>\n",
       "      <td>2</td>\n",
       "      <td>NaN</td>\n",
       "      <td>$107,961</td>\n",
       "      <td>No</td>\n",
       "      <td>$333,680</td>\n",
       "      <td>Yes</td>\n",
       "      <td>...</td>\n",
       "      <td>$16,970</td>\n",
       "      <td>1</td>\n",
       "      <td>Van</td>\n",
       "      <td>yes</td>\n",
       "      <td>$2,374</td>\n",
       "      <td>1</td>\n",
       "      <td>Yes</td>\n",
       "      <td>10</td>\n",
       "      <td>7.0</td>\n",
       "      <td>Highly Urban/ Urban</td>\n",
       "    </tr>\n",
       "    <tr>\n",
       "      <th>12</th>\n",
       "      <td>1</td>\n",
       "      <td>2501.0</td>\n",
       "      <td>0</td>\n",
       "      <td>34.0</td>\n",
       "      <td>0</td>\n",
       "      <td>10.0</td>\n",
       "      <td>$62,978</td>\n",
       "      <td>No</td>\n",
       "      <td>$0</td>\n",
       "      <td>z_No</td>\n",
       "      <td>...</td>\n",
       "      <td>$11,200</td>\n",
       "      <td>1</td>\n",
       "      <td>z_SUV</td>\n",
       "      <td>no</td>\n",
       "      <td>$0</td>\n",
       "      <td>0</td>\n",
       "      <td>No</td>\n",
       "      <td>0</td>\n",
       "      <td>1.0</td>\n",
       "      <td>Highly Urban/ Urban</td>\n",
       "    </tr>\n",
       "    <tr>\n",
       "      <th>13</th>\n",
       "      <td>0</td>\n",
       "      <td>0.0</td>\n",
       "      <td>0</td>\n",
       "      <td>50.0</td>\n",
       "      <td>0</td>\n",
       "      <td>7.0</td>\n",
       "      <td>$106,952</td>\n",
       "      <td>No</td>\n",
       "      <td>$0</td>\n",
       "      <td>z_No</td>\n",
       "      <td>...</td>\n",
       "      <td>$18,510</td>\n",
       "      <td>7</td>\n",
       "      <td>Van</td>\n",
       "      <td>no</td>\n",
       "      <td>$0</td>\n",
       "      <td>0</td>\n",
       "      <td>No</td>\n",
       "      <td>1</td>\n",
       "      <td>17.0</td>\n",
       "      <td>z_Highly Rural/ Rural</td>\n",
       "    </tr>\n",
       "  </tbody>\n",
       "</table>\n",
       "<p>10 rows × 25 columns</p>\n",
       "</div>"
      ],
      "text/plain": [
       "       TARGET_FLAG  TARGET_AMT  KIDSDRIV   AGE  HOMEKIDS   YOJ    INCOME  \\\n",
       "INDEX                                                                      \n",
       "1                0         0.0         0  60.0         0  11.0   $67,349   \n",
       "2                0         0.0         0  43.0         0  11.0   $91,449   \n",
       "4                0         0.0         0  35.0         1  10.0   $16,039   \n",
       "5                0         0.0         0  51.0         0  14.0       NaN   \n",
       "6                0         0.0         0  50.0         0   NaN  $114,986   \n",
       "7                1      2946.0         0  34.0         1  12.0  $125,301   \n",
       "8                0         0.0         0  54.0         0   NaN   $18,755   \n",
       "11               1      4021.0         1  37.0         2   NaN  $107,961   \n",
       "12               1      2501.0         0  34.0         0  10.0   $62,978   \n",
       "13               0         0.0         0  50.0         0   7.0  $106,952   \n",
       "\n",
       "      PARENT1  HOME_VAL MSTATUS  ... BLUEBOOK TIF    CAR_TYPE  RED_CAR  \\\n",
       "INDEX                            ...                                     \n",
       "1          No        $0    z_No  ...  $14,230  11     Minivan      yes   \n",
       "2          No  $257,252    z_No  ...  $14,940   1     Minivan      yes   \n",
       "4          No  $124,191     Yes  ...   $4,010   4       z_SUV       no   \n",
       "5          No  $306,251     Yes  ...  $15,440   7     Minivan      yes   \n",
       "6          No  $243,925     Yes  ...  $18,000   1       z_SUV       no   \n",
       "7         Yes        $0    z_No  ...  $17,430   1  Sports Car       no   \n",
       "8          No       NaN     Yes  ...   $8,780   1       z_SUV       no   \n",
       "11         No  $333,680     Yes  ...  $16,970   1         Van      yes   \n",
       "12         No        $0    z_No  ...  $11,200   1       z_SUV       no   \n",
       "13         No        $0    z_No  ...  $18,510   7         Van       no   \n",
       "\n",
       "      OLDCLAIM CLM_FREQ  REVOKED MVR_PTS CAR_AGE             URBANICITY  \n",
       "INDEX                                                                    \n",
       "1       $4,461        2       No       3    18.0    Highly Urban/ Urban  \n",
       "2           $0        0       No       0     1.0    Highly Urban/ Urban  \n",
       "4      $38,690        2       No       3    10.0    Highly Urban/ Urban  \n",
       "5           $0        0       No       0     6.0    Highly Urban/ Urban  \n",
       "6      $19,217        2      Yes       3    17.0    Highly Urban/ Urban  \n",
       "7           $0        0       No       0     7.0    Highly Urban/ Urban  \n",
       "8           $0        0       No       0     1.0    Highly Urban/ Urban  \n",
       "11      $2,374        1      Yes      10     7.0    Highly Urban/ Urban  \n",
       "12          $0        0       No       0     1.0    Highly Urban/ Urban  \n",
       "13          $0        0       No       1    17.0  z_Highly Rural/ Rural  \n",
       "\n",
       "[10 rows x 25 columns]"
      ]
     },
     "execution_count": 4,
     "metadata": {},
     "output_type": "execute_result"
    }
   ],
   "source": [
    "train_data.head(10)"
   ]
  },
  {
   "cell_type": "markdown",
   "id": "02c7649a-0cf4-439b-a10d-d524776d8a8f",
   "metadata": {},
   "source": [
    "The target variable is binary, it is thus a **classification task**."
   ]
  },
  {
   "cell_type": "code",
   "execution_count": 5,
   "id": "bdb6f67a-4352-437d-9821-c06726d905cc",
   "metadata": {},
   "outputs": [
    {
     "name": "stdout",
     "output_type": "stream",
     "text": [
      "Proportion of positive instances in the training set: 0.26\n"
     ]
    }
   ],
   "source": [
    "print('Proportion of positive instances in the training set: {}'.format(round(train_data.TARGET_FLAG.mean(),2)))"
   ]
  },
  {
   "cell_type": "markdown",
   "id": "02b94946-6472-4620-8e74-bdb96a71afec",
   "metadata": {},
   "source": [
    "$\\rightarrow$ the dataset is slightly imbalanced. We will be careful choosing the performance metrics."
   ]
  },
  {
   "cell_type": "markdown",
   "id": "c3b301c1-8858-4c1e-b6f8-2037069ce3e7",
   "metadata": {},
   "source": [
    "## 2) Numerical features"
   ]
  },
  {
   "cell_type": "markdown",
   "id": "425ec22c-06d3-4f1b-98c4-4fda9f660f8e",
   "metadata": {},
   "source": [
    "### Converting currency features to float\n",
    "Some numerical features represent prices and are thus encoded as string. We need to convert them to float."
   ]
  },
  {
   "cell_type": "code",
   "execution_count": 6,
   "id": "8b6776f3-20c2-45d1-8978-fd3f18d62ca2",
   "metadata": {},
   "outputs": [],
   "source": [
    "def currency_to_float(x):\n",
    "    if isinstance(x, str):\n",
    "        return(x.replace('$', '').replace(',', ''))\n",
    "    return(x)"
   ]
  },
  {
   "cell_type": "code",
   "execution_count": 7,
   "id": "a41c2974-3d02-4acb-a8a8-7a76b9ad32a4",
   "metadata": {},
   "outputs": [],
   "source": [
    "currency_features = ['INCOME', 'HOME_VAL', 'BLUEBOOK', 'OLDCLAIM']\n",
    "for feature in currency_features:\n",
    "    train_data[feature] = train_data[feature].apply(currency_to_float).astype(float)\n",
    "    test_data[feature] = test_data[feature].apply(currency_to_float).astype(float)"
   ]
  },
  {
   "cell_type": "markdown",
   "id": "8b7df736-625d-4295-bec7-64a49838af44",
   "metadata": {},
   "source": [
    "### Analysis of numerical features\n",
    "\n",
    "We represent histograms of numerical features for each sub-population:\n",
    "+ instances for which the target value is positive ($Y=1$, red)\n",
    "+ instances for which the target value is negative ($Y=0$, blue)"
   ]
  },
  {
   "cell_type": "code",
   "execution_count": 8,
   "id": "2c9b0f05-f969-47d1-85ac-90f2d9bb9aa8",
   "metadata": {},
   "outputs": [],
   "source": [
    "numerical_features = list(train_data.describe(include=np.number).columns)\n",
    "numerical_features.remove('TARGET_FLAG')\n",
    "numerical_features.remove('TARGET_AMT') # we don't want to use that information !"
   ]
  },
  {
   "cell_type": "code",
   "execution_count": 9,
   "id": "f498e547-45cf-4bc0-80e0-b34406950643",
   "metadata": {},
   "outputs": [],
   "source": [
    "# Function to represent histograms of variables given the target label\n",
    "def hist(feature, ax):\n",
    "    ax.hist(train_data[train_data.TARGET_FLAG==1][feature], color='red', label='$Y=1$', density=True, alpha=0.5)\n",
    "    ax.hist(train_data[train_data.TARGET_FLAG==0][feature], color='blue', label='$Y=0$', density=True, alpha=0.5)\n",
    "    ax.set_title(feature, fontsize=20)\n",
    "    ax.legend(fontsize=15)"
   ]
  },
  {
   "cell_type": "code",
   "execution_count": 10,
   "id": "4175b88d-d0e0-4cc2-aa06-df3bbd7736f3",
   "metadata": {},
   "outputs": [
    {
     "name": "stdout",
     "output_type": "stream",
     "text": [
      "['KIDSDRIV', 'AGE', 'HOMEKIDS', 'YOJ', 'INCOME', 'HOME_VAL', 'TRAVTIME', 'BLUEBOOK', 'TIF', 'OLDCLAIM', 'CLM_FREQ', 'MVR_PTS', 'CAR_AGE']\n"
     ]
    }
   ],
   "source": [
    "print(numerical_features)"
   ]
  },
  {
   "cell_type": "code",
   "execution_count": 11,
   "id": "3da87618-0265-4c93-aece-7872806f60a1",
   "metadata": {},
   "outputs": [
    {
     "data": {
      "image/png": "[encoded data removed]",
      "text/plain": [
       "<Figure size 1800x1440 with 16 Axes>"
      ]
     },
     "metadata": {
      "needs_background": "light"
     },
     "output_type": "display_data"
    }
   ],
   "source": [
    "fig, axes = plt.subplots(nrows=4, ncols=4, figsize=(25,20))\n",
    "hist('KIDSDRIV', axes[0,0])\n",
    "hist('AGE', axes[0,1])\n",
    "hist('HOMEKIDS', axes[0,2])\n",
    "hist('YOJ', axes[0,3])\n",
    "hist('INCOME', axes[1,0])\n",
    "hist('HOME_VAL', axes[1,1])\n",
    "hist('TRAVTIME', axes[1,2])\n",
    "hist('BLUEBOOK', axes[1,3])\n",
    "hist('TIF', axes[2,0])\n",
    "hist('OLDCLAIM', axes[2,1])\n",
    "hist('CLM_FREQ', axes[2,2])\n",
    "hist('MVR_PTS', axes[2,3])\n",
    "hist('CAR_AGE', axes[3,0])\n",
    "plt.subplots_adjust(left=0.1, bottom=0.1, right=0.9, top=0.9, wspace=0.4, hspace=0.4)\n",
    "plt.show()"
   ]
  },
  {
   "cell_type": "markdown",
   "id": "94c08b3d-3902-4265-8361-39d1323df577",
   "metadata": {},
   "source": [
    "This already gives a few insights about which feature might be relevant to predict the target $Y$:\n",
    "+ lower income (INCOME) and home values (HOME_VAL result in a higher probability of having $Y=1$\n",
    "+ variables OLDCLAIM, CLM_FREQ and MVR_PTS seems to be correlated to the target $Y$."
   ]
  },
  {
   "cell_type": "markdown",
   "id": "e45fd609-0381-4f88-a306-82ef92e8562f",
   "metadata": {},
   "source": [
    "## 3) Dealing with categorical features"
   ]
  },
  {
   "cell_type": "markdown",
   "id": "eda4fa25-3641-4aae-8623-434355ce14e1",
   "metadata": {},
   "source": [
    "### General analysis of numerical features\n",
    "\n",
    "Similarly to numerical features, we can represent the empirical distributions of categorical variables for each sub-population."
   ]
  },
  {
   "cell_type": "code",
   "execution_count": 12,
   "id": "d4796072-0fba-48a9-acf5-4630d6e7300f",
   "metadata": {},
   "outputs": [],
   "source": [
    "cat_features = train_data.describe(include='object').columns"
   ]
  },
  {
   "cell_type": "code",
   "execution_count": 13,
   "id": "b877027c-3863-49dd-9830-17528a2bcfaf",
   "metadata": {},
   "outputs": [
    {
     "data": {
      "text/plain": [
       "Index(['PARENT1', 'MSTATUS', 'SEX', 'EDUCATION', 'JOB', 'CAR_USE', 'CAR_TYPE',\n",
       "       'RED_CAR', 'REVOKED', 'URBANICITY'],\n",
       "      dtype='object')"
      ]
     },
     "execution_count": 13,
     "metadata": {},
     "output_type": "execute_result"
    }
   ],
   "source": [
    "cat_features"
   ]
  },
  {
   "cell_type": "code",
   "execution_count": 14,
   "id": "83670c56-0f42-4baa-8150-f10e3d84ff70",
   "metadata": {},
   "outputs": [],
   "source": [
    "def hist_cat(feature, ax):\n",
    "    ax.hist([train_data[train_data.TARGET_FLAG==1][feature].astype(str), train_data[train_data.TARGET_FLAG==0][feature].astype(str)], color=['red', 'blue'], label=['$Y=1$', '$Y=0$'])\n",
    "    ax.tick_params(axis='x', rotation=45, labelsize=15)\n",
    "    ax.set_ylabel('Count', fontsize=15)\n",
    "    ax.set_title(feature, fontsize=20)\n",
    "    ax.legend(fontsize=15)"
   ]
  },
  {
   "cell_type": "code",
   "execution_count": 15,
   "id": "fd769a02-6b8c-4a85-8451-cf3c70786db7",
   "metadata": {},
   "outputs": [
    {
     "data": {
      "image/png": "[encoded data removed]",
      "text/plain": [
       "<Figure size 1800x1440 with 12 Axes>"
      ]
     },
     "metadata": {
      "needs_background": "light"
     },
     "output_type": "display_data"
    }
   ],
   "source": [
    "fig, axes = plt.subplots(nrows=3, ncols=4, figsize=(25,20))\n",
    "hist_cat('PARENT1', axes[0,0])\n",
    "hist_cat('MSTATUS', axes[0,1])\n",
    "hist_cat('SEX', axes[0,2])\n",
    "hist_cat('EDUCATION', axes[0,3])\n",
    "hist_cat('JOB', axes[1,0])\n",
    "hist_cat('CAR_USE', axes[1,1])\n",
    "hist_cat('CAR_TYPE', axes[1,2])\n",
    "hist_cat('RED_CAR', axes[1,3])\n",
    "hist_cat('REVOKED', axes[2,0])\n",
    "hist_cat('URBANICITY', axes[2,1])\n",
    "plt.subplots_adjust(left=0.1, bottom=0.1, right=0.9, top=0.9, wspace=0.4, hspace=0.4)\n",
    "plt.show()"
   ]
  },
  {
   "cell_type": "markdown",
   "id": "abaeec00-ed96-4fce-8878-4c97b7fa7705",
   "metadata": {},
   "source": [
    "Again, this gives useful insights about features relevant in the prediction of the output target $Y$."
   ]
  },
  {
   "cell_type": "markdown",
   "id": "1da10806-8c01-4aa2-8eb1-7df0179de346",
   "metadata": {},
   "source": [
    "### Encoding categorical features\n",
    "\n",
    "We need to encode categorical variables as numerical values before training machine learning algorithms.\n",
    "The simplest choice in this case is to resort to One Hot Encoding. This means that every categorical features is transformed into $d-1$ binary variables where $d$ is the number of categories.\n",
    "Note that we could encode the variable EDUCATION in a more efficient way using the hierarchy between the levels of studies. (I did not do it here to keep it simpler)"
   ]
  },
  {
   "cell_type": "code",
   "execution_count": 16,
   "id": "e8c90bb7-7fa9-472d-a951-34e58c7f3cd8",
   "metadata": {},
   "outputs": [],
   "source": [
    "encoder = OneHotEncoder(sparse=False, drop='first')"
   ]
  },
  {
   "cell_type": "code",
   "execution_count": 17,
   "id": "cf0b88f8-8a88-4728-b6cd-d29b487ac9c7",
   "metadata": {},
   "outputs": [],
   "source": [
    "train_cat_encoded = encoder.fit_transform(train_data[cat_features])\n",
    "test_cat_encoded = encoder.transform(test_data[cat_features])"
   ]
  },
  {
   "cell_type": "code",
   "execution_count": 18,
   "id": "1a6675c2-3a42-44e3-ac21-59fb7504aff0",
   "metadata": {},
   "outputs": [
    {
     "name": "stdout",
     "output_type": "stream",
     "text": [
      "(8161, 24)\n",
      "(2141, 24)\n"
     ]
    }
   ],
   "source": [
    "print(train_cat_encoded.shape)\n",
    "print(test_cat_encoded.shape)"
   ]
  },
  {
   "cell_type": "markdown",
   "id": "1e8c37dd-1c22-4889-b0f1-3a3c6285714f",
   "metadata": {},
   "source": [
    "We now have transformed our categorical feartures into numerical values. However, one hot encoding results in an increase of the dimension (from $10$ to $24$)."
   ]
  },
  {
   "cell_type": "code",
   "execution_count": 19,
   "id": "dd1f7fec-514e-466d-9dcb-a7be69462899",
   "metadata": {},
   "outputs": [
    {
     "name": "stderr",
     "output_type": "stream",
     "text": [
      "C:\\Users\\u607316\\AppData\\Local\\conda\\conda\\envs\\these\\lib\\site-packages\\sklearn\\utils\\deprecation.py:87: FutureWarning: Function get_feature_names is deprecated; get_feature_names is deprecated in 1.0 and will be removed in 1.2. Please use get_feature_names_out instead.\n",
      "  warnings.warn(msg, category=FutureWarning)\n"
     ]
    }
   ],
   "source": [
    "new_cat_features = encoder.get_feature_names(cat_features)"
   ]
  },
  {
   "cell_type": "code",
   "execution_count": 20,
   "id": "454c6366-c99a-41c0-bbce-e111f254e56c",
   "metadata": {},
   "outputs": [
    {
     "data": {
      "text/plain": [
       "array(['PARENT1_Yes', 'MSTATUS_z_No', 'SEX_z_F', 'EDUCATION_Bachelors',\n",
       "       'EDUCATION_Masters', 'EDUCATION_PhD', 'EDUCATION_z_High School',\n",
       "       'JOB_Doctor', 'JOB_Home Maker', 'JOB_Lawyer', 'JOB_Manager',\n",
       "       'JOB_Professional', 'JOB_Student', 'JOB_z_Blue Collar', 'JOB_nan',\n",
       "       'CAR_USE_Private', 'CAR_TYPE_Panel Truck', 'CAR_TYPE_Pickup',\n",
       "       'CAR_TYPE_Sports Car', 'CAR_TYPE_Van', 'CAR_TYPE_z_SUV',\n",
       "       'RED_CAR_yes', 'REVOKED_Yes', 'URBANICITY_z_Highly Rural/ Rural'],\n",
       "      dtype=object)"
      ]
     },
     "execution_count": 20,
     "metadata": {},
     "output_type": "execute_result"
    }
   ],
   "source": [
    "new_cat_features"
   ]
  },
  {
   "cell_type": "markdown",
   "id": "9e5aef70-8635-49f0-b1e7-4e32ad968f7a",
   "metadata": {},
   "source": [
    "## 4) Concatenate encoded categorical features and numerical features"
   ]
  },
  {
   "cell_type": "code",
   "execution_count": 21,
   "id": "69b369f5-9f9f-4c0c-b647-f9ed2514524f",
   "metadata": {},
   "outputs": [],
   "source": [
    "Y = train_data.TARGET_FLAG   # target variable (binary)"
   ]
  },
  {
   "cell_type": "code",
   "execution_count": 22,
   "id": "9bba5b5c-b425-462f-8a67-0b169877f8c4",
   "metadata": {},
   "outputs": [],
   "source": [
    "X = np.concatenate([train_data[numerical_features].values, train_cat_encoded], axis=1)\n",
    "X_test = np.concatenate([test_data[numerical_features].values, test_cat_encoded], axis=1)"
   ]
  },
  {
   "cell_type": "code",
   "execution_count": 23,
   "id": "3c85a9b1-5bbb-4614-823f-19861829d277",
   "metadata": {},
   "outputs": [
    {
     "name": "stdout",
     "output_type": "stream",
     "text": [
      "['KIDSDRIV', 'AGE', 'HOMEKIDS', 'YOJ', 'INCOME', 'HOME_VAL', 'TRAVTIME', 'BLUEBOOK', 'TIF', 'OLDCLAIM', 'CLM_FREQ', 'MVR_PTS', 'CAR_AGE', 'PARENT1_Yes', 'MSTATUS_z_No', 'SEX_z_F', 'EDUCATION_Bachelors', 'EDUCATION_Masters', 'EDUCATION_PhD', 'EDUCATION_z_High School', 'JOB_Doctor', 'JOB_Home Maker', 'JOB_Lawyer', 'JOB_Manager', 'JOB_Professional', 'JOB_Student', 'JOB_z_Blue Collar', 'JOB_nan', 'CAR_USE_Private', 'CAR_TYPE_Panel Truck', 'CAR_TYPE_Pickup', 'CAR_TYPE_Sports Car', 'CAR_TYPE_Van', 'CAR_TYPE_z_SUV', 'RED_CAR_yes', 'REVOKED_Yes', 'URBANICITY_z_Highly Rural/ Rural']\n"
     ]
    }
   ],
   "source": [
    "features = list(numerical_features) + list(new_cat_features) # list of features\n",
    "print(features)"
   ]
  },
  {
   "cell_type": "code",
   "execution_count": 24,
   "id": "24e196fd-25fd-4bf4-8ae5-037f76c3efac",
   "metadata": {},
   "outputs": [
    {
     "data": {
      "text/plain": [
       "(8161, 37)"
      ]
     },
     "execution_count": 24,
     "metadata": {},
     "output_type": "execute_result"
    }
   ],
   "source": [
    "X.shape"
   ]
  },
  {
   "cell_type": "markdown",
   "id": "f0159edc-a29d-4522-9d27-184c27f41648",
   "metadata": {},
   "source": [
    "## 5) Prepare data for training\n",
    "+ Fill missing values (Nan): we impute missing values using a KNN (nearest neighbors) model\n",
    "+ Normalize data\n",
    "+ train / validation split: we will train our models using the train set and compare their performances over the validation set"
   ]
  },
  {
   "cell_type": "code",
   "execution_count": 25,
   "id": "3eae9b22-0824-4dbe-a6df-ebcb618cc6ce",
   "metadata": {},
   "outputs": [],
   "source": [
    "# Imput missing values\n",
    "imputer = KNNImputer()\n",
    "X = imputer.fit_transform(X)\n",
    "X_test = imputer.transform(X_test)"
   ]
  },
  {
   "cell_type": "code",
   "execution_count": 26,
   "id": "91762d14-a40f-4bfc-b18b-173744231a48",
   "metadata": {},
   "outputs": [],
   "source": [
    "# Normalize features\n",
    "scaler = preprocessing.StandardScaler()\n",
    "X = scaler.fit_transform(X)\n",
    "X_test = scaler.fit_transform(X_test)"
   ]
  },
  {
   "cell_type": "code",
   "execution_count": 27,
   "id": "69ee5510-5b21-4b4f-af7a-a13997bb3191",
   "metadata": {},
   "outputs": [],
   "source": [
    "# Train validation split\n",
    "X_train, X_val, Y_train, Y_val = train_test_split(X, Y, test_size=0.33, random_state=1)"
   ]
  },
  {
   "cell_type": "markdown",
   "id": "20476208-bd1c-4ac1-8959-27429b5beefa",
   "metadata": {},
   "source": [
    "## Training\n",
    "\n",
    "The target variable $Y$ is binary ($0$ or $1$). Hence, this is a classification task. The objective is to use the training set $(X_{train}, Y_{train})$ to estimate a classifier that will give good predictions on the test set.\n",
    "\n",
    "We use the validation set to assess the performances of each method."
   ]
  },
  {
   "cell_type": "markdown",
   "id": "17627b7a-38c3-4853-b205-27e00b095c8c",
   "metadata": {},
   "source": [
    "### Linear Logistic Regression"
   ]
  },
  {
   "cell_type": "code",
   "execution_count": 28,
   "id": "9c63c0e2-900b-4924-af31-89d424b1bfd0",
   "metadata": {},
   "outputs": [],
   "source": [
    "model_lr = LogisticRegression()"
   ]
  },
  {
   "cell_type": "code",
   "execution_count": 29,
   "id": "4b501d30-37ca-4eea-8852-20183060a66b",
   "metadata": {},
   "outputs": [
    {
     "data": {
      "text/plain": [
       "LogisticRegression()"
      ]
     },
     "execution_count": 29,
     "metadata": {},
     "output_type": "execute_result"
    }
   ],
   "source": [
    "model_lr.fit(X_train, Y_train)"
   ]
  },
  {
   "cell_type": "code",
   "execution_count": 30,
   "id": "f933f1a8-f3c7-41e6-863c-6d0bdd89c81c",
   "metadata": {},
   "outputs": [],
   "source": [
    "y_pred_lr = model_lr.predict_proba(X_val)[:,1]"
   ]
  },
  {
   "cell_type": "code",
   "execution_count": 31,
   "id": "8c3e63a1-40ce-41b6-9e46-37d785551649",
   "metadata": {},
   "outputs": [
    {
     "data": {
      "text/plain": [
       "0.7910170749814402"
      ]
     },
     "execution_count": 31,
     "metadata": {},
     "output_type": "execute_result"
    }
   ],
   "source": [
    "accuracy_score(Y_val, y_pred_lr>=0.5)"
   ]
  },
  {
   "cell_type": "markdown",
   "id": "f1d9f249-68cf-4ab2-be86-f5ec7fc84b9c",
   "metadata": {},
   "source": [
    "The accuracy score is not a good metric here. A naive classifier always predicting $0$ would have an accuracy close to $0.74$...\n",
    "Better metrics are:\n",
    "+ precision and recall\n",
    "+ f1 score (compromise between precision and recall)\n",
    "+ ROC AUC: does not require the specification of the decision threshold"
   ]
  },
  {
   "cell_type": "code",
   "execution_count": 32,
   "id": "ba409048-8f48-414b-870b-4a9786d43538",
   "metadata": {},
   "outputs": [],
   "source": [
    "scores_lr = {'Recall':recall_score(Y_val, y_pred_lr>=0.5), 'Precision':precision_score(Y_val, y_pred_lr>=0.5), 'F1':f1_score(Y_val, y_pred_lr>=0.5), 'ROC_AUC':roc_auc_score(Y_val, y_pred_lr)}"
   ]
  },
  {
   "cell_type": "markdown",
   "id": "0d69e9a3-774a-4b4c-874b-c19b6f9e2b5c",
   "metadata": {},
   "source": [
    "### Linear Discriminant Analysis"
   ]
  },
  {
   "cell_type": "code",
   "execution_count": 33,
   "id": "55a96f69-65e8-4095-9ee2-6fd70d58f6c0",
   "metadata": {},
   "outputs": [
    {
     "data": {
      "text/plain": [
       "LinearDiscriminantAnalysis()"
      ]
     },
     "execution_count": 33,
     "metadata": {},
     "output_type": "execute_result"
    }
   ],
   "source": [
    "model_lda = LinearDiscriminantAnalysis()\n",
    "model_lda.fit(X_train, Y_train)"
   ]
  },
  {
   "cell_type": "code",
   "execution_count": 34,
   "id": "1a84da55-1f8e-458e-bf3e-7a7d1e966918",
   "metadata": {},
   "outputs": [],
   "source": [
    "y_pred_lda = model_lda.predict_proba(X_val)[:,1]"
   ]
  },
  {
   "cell_type": "code",
   "execution_count": 35,
   "id": "1dd3fa69-9c72-43e6-a156-da29d22066b6",
   "metadata": {},
   "outputs": [],
   "source": [
    "scores_lda = {'Recall':recall_score(Y_val, y_pred_lda>=0.5), 'Precision':precision_score(Y_val, y_pred_lda>=0.5), 'F1':f1_score(Y_val, y_pred_lda>=0.5), 'ROC_AUC':roc_auc_score(Y_val, y_pred_lda)}"
   ]
  },
  {
   "cell_type": "markdown",
   "id": "6ce19f77-c66d-4a51-8224-ee196e2e562f",
   "metadata": {},
   "source": [
    "### Support Vector Machine with Gaussian kernel (SVM)\n",
    "I did not optimize the hyperparameter $C$. This could be done for instance using cross validation to select the best value."
   ]
  },
  {
   "cell_type": "code",
   "execution_count": 36,
   "id": "42ee5158-9063-4440-b78e-f0e809a49073",
   "metadata": {},
   "outputs": [
    {
     "data": {
      "text/plain": [
       "SVC()"
      ]
     },
     "execution_count": 36,
     "metadata": {},
     "output_type": "execute_result"
    }
   ],
   "source": [
    "model_svm = SVC(C=1.)  \n",
    "model_svm.fit(X_train, Y_train)"
   ]
  },
  {
   "cell_type": "code",
   "execution_count": 37,
   "id": "f2d88650-7d2a-4d8a-847f-7e7da65690bd",
   "metadata": {},
   "outputs": [],
   "source": [
    "y_pred_svm = model_svm.decision_function(X_val)"
   ]
  },
  {
   "cell_type": "code",
   "execution_count": 38,
   "id": "41fa2f67-c44a-4aa6-a0e3-2b4b34f21030",
   "metadata": {},
   "outputs": [],
   "source": [
    "scores_svm = {'Recall':recall_score(Y_val, y_pred_svm>=0.), 'Precision':precision_score(Y_val, y_pred_svm>=0.), 'F1':f1_score(Y_val, y_pred_svm>=0.), 'ROC_AUC':roc_auc_score(Y_val, y_pred_svm)}"
   ]
  },
  {
   "cell_type": "markdown",
   "id": "301e703f-53bd-45dc-9560-99c702740669",
   "metadata": {},
   "source": [
    "### Random forest\n",
    "Again, some hyperparameters like the maximum depth of trees could be optimized."
   ]
  },
  {
   "cell_type": "code",
   "execution_count": 39,
   "id": "4700e018-0d59-43a9-80cb-3102fe9aa10f",
   "metadata": {},
   "outputs": [],
   "source": [
    "model_rf = RandomForestClassifier(max_depth=10, max_features='sqrt')\n",
    "model_rf.fit(X_train, Y_train)\n",
    "y_pred_rf = model_rf.predict_proba(X_val)[:,1]"
   ]
  },
  {
   "cell_type": "code",
   "execution_count": 40,
   "id": "6e70891f-a34b-4c76-9353-411a129d69a6",
   "metadata": {},
   "outputs": [],
   "source": [
    "scores_rf = {'Recall':recall_score(Y_val, y_pred_rf>=0.5), 'Precision':precision_score(Y_val, y_pred_rf>=0.5), 'F1':f1_score(Y_val, y_pred_rf>=0.5), 'ROC_AUC':roc_auc_score(Y_val, y_pred_rf)}"
   ]
  },
  {
   "cell_type": "markdown",
   "id": "a37221c0-c711-47b4-ac9e-4327c12812ac",
   "metadata": {},
   "source": [
    "## Performance comparison"
   ]
  },
  {
   "cell_type": "code",
   "execution_count": 41,
   "id": "c8875fae-dd3a-4867-b5b9-ee8bd2c7f015",
   "metadata": {},
   "outputs": [],
   "source": [
    "performances = pd.DataFrame([scores_lr, scores_lda, scores_svm, scores_rf], index=['Logistic Regression', 'Linear Discriminant Analysis', 'SVM', 'Random Forest'])"
   ]
  },
  {
   "cell_type": "code",
   "execution_count": 42,
   "id": "4f2cadb3-6b52-4bbf-ab4f-e6b568cb7e95",
   "metadata": {},
   "outputs": [
    {
     "data": {
      "text/html": [
       "<div>\n",
       "<style scoped>\n",
       "    .dataframe tbody tr th:only-of-type {\n",
       "        vertical-align: middle;\n",
       "    }\n",
       "\n",
       "    .dataframe tbody tr th {\n",
       "        vertical-align: top;\n",
       "    }\n",
       "\n",
       "    .dataframe thead th {\n",
       "        text-align: right;\n",
       "    }\n",
       "</style>\n",
       "<table border=\"1\" class=\"dataframe\">\n",
       "  <thead>\n",
       "    <tr style=\"text-align: right;\">\n",
       "      <th></th>\n",
       "      <th>Recall</th>\n",
       "      <th>Precision</th>\n",
       "      <th>F1</th>\n",
       "      <th>ROC_AUC</th>\n",
       "    </tr>\n",
       "  </thead>\n",
       "  <tbody>\n",
       "    <tr>\n",
       "      <th>Logistic Regression</th>\n",
       "      <td>0.450</td>\n",
       "      <td>0.650</td>\n",
       "      <td>0.532</td>\n",
       "      <td>0.806</td>\n",
       "    </tr>\n",
       "    <tr>\n",
       "      <th>Linear Discriminant Analysis</th>\n",
       "      <td>0.442</td>\n",
       "      <td>0.650</td>\n",
       "      <td>0.526</td>\n",
       "      <td>0.802</td>\n",
       "    </tr>\n",
       "    <tr>\n",
       "      <th>SVM</th>\n",
       "      <td>0.405</td>\n",
       "      <td>0.652</td>\n",
       "      <td>0.500</td>\n",
       "      <td>0.797</td>\n",
       "    </tr>\n",
       "    <tr>\n",
       "      <th>Random Forest</th>\n",
       "      <td>0.286</td>\n",
       "      <td>0.684</td>\n",
       "      <td>0.403</td>\n",
       "      <td>0.802</td>\n",
       "    </tr>\n",
       "  </tbody>\n",
       "</table>\n",
       "</div>"
      ],
      "text/plain": [
       "                              Recall  Precision     F1  ROC_AUC\n",
       "Logistic Regression            0.450      0.650  0.532    0.806\n",
       "Linear Discriminant Analysis   0.442      0.650  0.526    0.802\n",
       "SVM                            0.405      0.652  0.500    0.797\n",
       "Random Forest                  0.286      0.684  0.403    0.802"
      ]
     },
     "execution_count": 42,
     "metadata": {},
     "output_type": "execute_result"
    }
   ],
   "source": [
    "performances.round(3)"
   ]
  },
  {
   "cell_type": "markdown",
   "id": "63e06424-8aaf-4bdc-93fa-68a41513c7dc",
   "metadata": {},
   "source": [
    "Performances are similar for the different methods. It seems that the linear models (Logistic Regression and Linear Discriminant Analysis) perform slightly better (maybe because the others were not fully optimized). In order to confirm that, we would need to repeat the procedure with random partitions between train and validation sets in order to assess the variability on the performance evaluation.\n",
    "\n",
    "From these $4$ classifiers, it seems reasonable to choose the Logistic Regression which provides the best F1 score and area under ROC curve. Besides it is a simpler model than the others and it is easy to interprete."
   ]
  },
  {
   "cell_type": "markdown",
   "id": "675fbd1e-86fa-40bd-91fe-193b3426d628",
   "metadata": {},
   "source": [
    "## Final submission\n",
    "\n",
    "We now train the chosen model on the whole training dataset and generate the csv file with the predictions on the test set."
   ]
  },
  {
   "cell_type": "code",
   "execution_count": 43,
   "id": "451e1876-757e-4a4b-95db-17b0f7c0c24f",
   "metadata": {},
   "outputs": [
    {
     "data": {
      "text/plain": [
       "LogisticRegression()"
      ]
     },
     "execution_count": 43,
     "metadata": {},
     "output_type": "execute_result"
    }
   ],
   "source": [
    "final_model = LogisticRegression()\n",
    "final_model.fit(X, Y)"
   ]
  },
  {
   "cell_type": "markdown",
   "id": "4ebfc1a3-07d6-47a1-b018-d0d8f859e824",
   "metadata": {},
   "source": [
    "We compute the predictions given by the trained model on the test set."
   ]
  },
  {
   "cell_type": "code",
   "execution_count": 44,
   "id": "6e44f1b2-8887-4863-aa67-e10af8790279",
   "metadata": {},
   "outputs": [],
   "source": [
    "predictions = final_model.predict(X_test)"
   ]
  },
  {
   "cell_type": "markdown",
   "id": "027cdcf9-d5c0-454a-b0fd-87d528313e5d",
   "metadata": {},
   "source": [
    "We store the predictions in the column TARGET_FLAG of the test dataframe and save it as the submission."
   ]
  },
  {
   "cell_type": "code",
   "execution_count": 45,
   "id": "55bd3ce6-67b6-42d2-830b-a655f1dc1d40",
   "metadata": {},
   "outputs": [],
   "source": [
    "test_data = pd.read_csv('data/auto-insurance-fall-2017/test_auto.csv', index_col=0)\n",
    "test_data['TARGET_FLAG'] = predictions\n",
    "test_data.to_csv('predictions.csv')"
   ]
  }
 ],
 "metadata": {
  "kernelspec": {
   "display_name": "Python 3 (ipykernel)",
   "language": "python",
   "name": "python3"
  },
  "language_info": {
   "codemirror_mode": {
    "name": "ipython",
    "version": 3
   },
   "file_extension": ".py",
   "mimetype": "text/x-python",
   "name": "python",
   "nbconvert_exporter": "python",
   "pygments_lexer": "ipython3",
   "version": "3.8.12"
  }
 },
 "nbformat": 4,
 "nbformat_minor": 5
}
